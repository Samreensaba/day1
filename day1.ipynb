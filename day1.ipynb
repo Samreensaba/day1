{
 "cells": [
  {
   "cell_type": "code",
   "execution_count": 2,
   "id": "f1040564-b3ca-4545-ba62-6ddd666dd868",
   "metadata": {},
   "outputs": [
    {
     "name": "stdout",
     "output_type": "stream",
     "text": [
      "Samreen\n",
      "August 12th 2024\n",
      "I am siging up for Replit's 100 days of python challenge!\n",
      "I will make sure to spend some time every day coding along, for a minimum of 10 minutes a day.\n",
      "I'll be using Replit, an amazing online IDE so I can do this from my phone wherever I happen to be. No excuses for not coding from the middle of the field!\n",
      "I am feeling 🎉🤩\n",
      "You can follow my progress at replit.com/@samreensaba\n"
     ]
    }
   ],
   "source": [
    "print(\"\"\"Samreen\n",
    "August 12th 2024\n",
    "I am siging up for Replit's 100 days of python challenge!\n",
    "I will make sure to spend some time every day coding along, for a minimum of 10 minutes a day.\n",
    "I'll be using Replit, an amazing online IDE so I can do this from my phone wherever I happen to be. No excuses for not coding from the middle of the field!\n",
    "I am feeling 🎉🤩\n",
    "You can follow my progress at replit.com/@samreensaba\"\"\")"
   ]
  },
  {
   "cell_type": "code",
   "execution_count": null,
   "id": "4a05ec72-3538-4fa5-9d9e-788b414c74b6",
   "metadata": {},
   "outputs": [],
   "source": []
  }
 ],
 "metadata": {
  "kernelspec": {
   "display_name": "Python 3 (ipykernel)",
   "language": "python",
   "name": "python3"
  },
  "language_info": {
   "codemirror_mode": {
    "name": "ipython",
    "version": 3
   },
   "file_extension": ".py",
   "mimetype": "text/x-python",
   "name": "python",
   "nbconvert_exporter": "python",
   "pygments_lexer": "ipython3",
   "version": "3.12.4"
  }
 },
 "nbformat": 4,
 "nbformat_minor": 5
}
